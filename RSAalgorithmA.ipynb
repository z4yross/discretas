{
 "cells": [
  {
   "cell_type": "markdown",
   "metadata": {},
   "source": [
    "# Algoritmo RSA\n",
    "\n",
    "El algoritmo RSA es un sistema criptografico de clave publica desarrollado en 1979. RSA sirve para cifrar y descifrar información, y por ello también provee servicios de autenticidad y de integridad, mediante lo que se conoce cono Infraestructura de clave pública. \n",
    "\n",
    "Su funcionamiento consiste esencialmente en trabajar con dos claves, una pública y una privada. Todo el contenido de texto plano, o contenido sin cifrar, que sea hecho con la clave pública, podrá ser descifrado mediante la clave privada, y viceversa, todo contenido cifrado con la clave privada podrá ser descifrado mediante la clave pública."
   ]
  },
  {
   "cell_type": "code",
   "execution_count": 1,
   "metadata": {},
   "outputs": [],
   "source": [
    "import random\n",
    "\n",
    "def rabinMiller(n, d):\n",
    "    a = random.randint(2, (n - 2) - 2)\n",
    "    x = pow(a, int(d), n) # a^d%n\n",
    "    if x == 1 or x == n - 1:\n",
    "        return True\n",
    "\n",
    "    # square x\n",
    "    while d != n - 1:\n",
    "        x = pow(x, 2, n)\n",
    "        d *= 2\n",
    "\n",
    "        if x == 1:\n",
    "            return False\n",
    "        elif x == n - 1:\n",
    "            return True\n",
    "    \n",
    "    # is not prime\n",
    "    return False\n",
    "\n",
    "def isPrime(n):\n",
    "    \"\"\"\n",
    "        return True if n prime\n",
    "        fall back to rabinMiller if uncertain\n",
    "    \"\"\"\n",
    "\n",
    "    # 0, 1, -ve numbers not prime\n",
    "    if n < 2:\n",
    "        return False\n",
    "\n",
    "    # low prime numbers to save time\n",
    "    lowPrimes = [2, 3, 5, 7, 11, 13, 17, 19, 23, 29, 31, 37, 41, 43, 47, 53, 59, 61, 67, 71, 73, 79, 83, 89, 97, 101, 103, 107, 109, 113, 127, 131, 137, 139, 149, 151, 157, 163, 167, 173, 179, 181, 191, 193, 197, 199, 211, 223, 227, 229, 233, 239, 241, 251, 257, 263, 269, 271, 277, 281, 283, 293, 307, 311, 313, 317, 331, 337, 347, 349, 353, 359, 367, 373, 379, 383, 389, 397, 401, 409, 419, 421, 431, 433, 439, 443, 449, 457, 461, 463, 467, 479, 487, 491, 499, 503, 509, 521, 523, 541, 547, 557, 563, 569, 571, 577, 587, 593, 599, 601, 607, 613, 617, 619, 631, 641, 643, 647, 653, 659, 661, 673, 677, 683, 691, 701, 709, 719, 727, 733, 739, 743, 751, 757, 761, 769, 773, 787, 797, 809, 811, 821, 823, 827, 829, 839, 853, 857, 859, 863, 877, 881, 883, 887, 907, 911, 919, 929, 937, 941, 947, 953, 967, 971, 977, 983, 991, 997]\n",
    "\n",
    "    # if in lowPrimes\n",
    "    if n in lowPrimes:\n",
    "        return True\n",
    "\n",
    "    # if low primes divide into n\n",
    "    for prime in lowPrimes:\n",
    "        if n % prime == 0:\n",
    "            return False\n",
    "    \n",
    "    # find number c such that c * 2 ^ r = n - 1\n",
    "    c = n - 1 # c even bc n not divisible by 2\n",
    "    while c % 2 == 0:\n",
    "        c /= 2 # make c odd\n",
    "\n",
    "    # prove not prime 128 times\n",
    "    for i in range(128):\n",
    "        if not rabinMiller(n, c):\n",
    "            return False\n",
    "\n",
    "    return True"
   ]
  },
  {
   "cell_type": "markdown",
   "metadata": {},
   "source": [
    "**Verificacion de primalidad de n**\n",
    "En el codigo, se implementa el test de primalidad de Miller-Rabin. Este consiste en determinar si un numero dado (en este caso, n) es primo. Este se basa en la implementacion de la formula $d \\cdotp 2^{r} = n-1, r \\geq 1$. A su vez, se verifica por otros metodos si n es primo."
   ]
  },
  {
   "cell_type": "code",
   "execution_count": 2,
   "metadata": {},
   "outputs": [],
   "source": [
    "def generateKeys(keysize=1024):\n",
    "    e = d = N = 0\n",
    "\n",
    "    # get prime nums, p & q\n",
    "    p = generateLargePrime(keysize)\n",
    "    q = generateLargePrime(keysize)\n",
    "\n",
    "    print(f\"p: {p}\")\n",
    "    print(f\"q: {q}\")\n",
    "\n",
    "    N = p * q # RSA Modulus\n",
    "    phiN = (p - 1) * (q - 1) # totient\n",
    "\n",
    "    # choose e\n",
    "    # e is coprime with phiN & 1 < e <= phiN\n",
    "    while True:\n",
    "        e = random.randrange(2 ** (keysize - 1), 2 ** keysize - 1)\n",
    "        if (isCoPrime(e, phiN)):\n",
    "            break\n",
    "\n",
    "    # choose d\n",
    "    # d is mod inv of e with respect to phiN, e * d (mod phiN) = 1\n",
    "    d = modularInv(e, phiN)\n",
    "\n",
    "    return e, d, N\n",
    "\n",
    "def generateLargePrime(keysize):\n",
    "    \"\"\"\n",
    "        return random large prime number of keysize bits in size\n",
    "    \"\"\"\n",
    "\n",
    "    while True:\n",
    "        num = random.randrange(2 ** (keysize - 1), 2 ** keysize - 1)\n",
    "        if (isPrime(num)):\n",
    "            return num\n",
    "def isCoPrime(p, q):\n",
    "    \"\"\"\n",
    "        return True if gcd(p, q) is 1\n",
    "        relatively prime\n",
    "    \"\"\"\n",
    "\n",
    "    return gcd(p, q) == 1\n",
    "\n",
    "def gcd(p, q):\n",
    "    \"\"\"\n",
    "        euclidean algorithm to find gcd of p and q\n",
    "    \"\"\"\n",
    "\n",
    "    while q:\n",
    "        p, q = q, p % q\n",
    "    return p\n",
    "\n",
    "def egcd(a, b):\n",
    "    s = 0; old_s = 1\n",
    "    t = 1; old_t = 0\n",
    "    r = b; old_r = a\n",
    "\n",
    "    while r != 0:\n",
    "        quotient = old_r // r\n",
    "        old_r, r = r, old_r - quotient * r\n",
    "        old_s, s = s, old_s - quotient * s\n",
    "        old_t, t = t, old_t - quotient * t\n",
    "\n",
    "    # return gcd, x, y\n",
    "    return old_r, old_s, old_t\n",
    "\n",
    "def modularInv(a, b):\n",
    "    gcd, x, y = egcd(a, b)\n",
    "\n",
    "    if x < 0:\n",
    "        x += b\n",
    "\n",
    "    return x"
   ]
  },
  {
   "cell_type": "markdown",
   "metadata": {},
   "source": [
    "**Generacion de claves**\n",
    "Para la generacion de claves se tienen que contan con dos primos $p$ y $q$ inicialmente.\n",
    "* Se calcula $n=p \\cdotp q$. En donde $n$ se utilizara como modulo para las claves tanto publicas como privadas.\n",
    "* Para saber si dos numeros son coprimos, nos basamos en el algoritmo de Euclides en el cual su resultado debe ser $gcd(m,n)=1$\n",
    "* Con la funcion $\\phi$  de euler se calcula $\\phi = (p-1) \\cdotp (q-1)$. Esto gracias a las propiedades $\\phi(p) = p-1$ si $p$ es primo y $\\phi(mn) = \\phi(m) \\cdotp \\phi(n)$ si $m$ y $n$ son coprimos.\n",
    "* Se escoge un entreo positivo $e \\leq \\phi(n)$, que sea coprimo con $\\phi(n)$.\n",
    "* Se determina un d para nuestra clave privada que cumpla con el algoritmo extendido de Euclides. Este algoritmo es de la forma $de \\equiv 1 \\pmod{\\phi(n)} \\rightarrow de = k \\cdotp \\phi(n) + 1, k \\in \\mathbf{Z}$ En donde nos interesa obtener el d para poder descrifrar el mensaje.\n"
   ]
  },
  {
   "cell_type": "code",
   "execution_count": 3,
   "metadata": {},
   "outputs": [],
   "source": [
    "def encrypt(e, N, msg):\n",
    "    cipher = \"\"\n",
    "\n",
    "    for c in msg:\n",
    "        m = ord(c)\n",
    "        cipher += str(pow(m, e, N)) + \" \"\n",
    "\n",
    "    return cipher\n",
    "\n",
    "def decrypt(d, N, cipher):\n",
    "    msg = \"\"\n",
    "\n",
    "    parts = cipher.split()\n",
    "    for part in parts:\n",
    "        if part:\n",
    "            c = int(part)\n",
    "            msg += chr(pow(c, d, N))\n",
    "\n",
    "    return msg"
   ]
  },
  {
   "cell_type": "markdown",
   "metadata": {},
   "source": [
    "**Funcionamiento**\n",
    "El codigo consta de manejar dos llaves, una publica y una privada. El cifrado del mensaje se hace mediante el uso de una clave publica, la cual cifra el mensaje segun la operacion $c = m^{e} \\pmod{n}$ donde $c$ corresponde a mensaje cifrado, $m$ corresponde a mensaje por cifrar y $e$ corresponde a la clave publica para cifrar el mensaje. \n",
    "Para esto, el emisor debe conocer la clave publica $(e,n)$ para obtener, mediante el uso de la operacion descrita, un numero entero $m$ tal que $m \\leq n$  y garantizar que $m$ y $n$ sean coprimos.\n",
    "\n",
    "Por otra parte, el descrifrado del mensaje consta de aplicar la operacion $m = c^{d} \\pmod{n}$. En este caso, la clave privada se compone de $(d,n)$ que solo el receptor conoce.\n",
    "\n",
    "Este codigo es retomado del usuario michaelg29 de Github, el cual realiza una transmision en vivo mientras realiza el analisis de este algoritmo y su implementacion en el lenguaje python. Aqui esta el [link](https://github.com/michaelg29/yt-challenges/blob/master/05%20-%20RSA/rsa.py) para revisar el repositorio referenciado."
   ]
  },
  {
   "cell_type": "code",
   "execution_count": 4,
   "metadata": {},
   "outputs": [
    {
     "data": {
      "text/html": [
       "<iframe width=\"560\" height=\"315\" src=\"https://www.youtube.com/embed/KS169C845aU\" frameborder=\"0\" allow=\"accelerometer; autoplay; encrypted-media; gyroscope; picture-in-picture\" allowfullscreen></iframe>\n"
      ],
      "text/plain": [
       "<IPython.core.display.HTML object>"
      ]
     },
     "metadata": {},
     "output_type": "display_data"
    }
   ],
   "source": [
    "%%html\n",
    "<iframe width=\"560\" height=\"315\" src=\"https://www.youtube.com/embed/KS169C845aU\" frameborder=\"0\" allow=\"accelerometer; autoplay; encrypted-media; gyroscope; picture-in-picture\" allowfullscreen></iframe>"
   ]
  },
  {
   "cell_type": "code",
   "execution_count": 5,
   "metadata": {},
   "outputs": [
    {
     "name": "stdout",
     "output_type": "stream",
     "text": [
      "Hello, RSA!\n",
      "p: 3464225629\n",
      "q: 3547836049\n",
      "Message: Hello, RSA!\n",
      "e: 2172414433\n",
      "d: 1420349772447251233\n",
      "N: 12290504568435899821\n",
      "enc: 695888046720459339 8753898312466965901 11557141727610443984 11557141727610443984 6322637963914785339 6377532659704791956 8190034044505793568 5084976463385767849 9681862098188702524 439413576060291863 11165496363038764 \n",
      "dec: Hello, RSA!\n"
     ]
    }
   ],
   "source": [
    "def main():\n",
    "    print(\"Hello, RSA!\")\n",
    "\n",
    "    keysize = 32\n",
    "\n",
    "    e, d, N = generateKeys(keysize)\n",
    "\n",
    "    msg = \"Hello, RSA!\"\n",
    "\n",
    "    enc = encrypt(e, N, msg)\n",
    "    dec = decrypt(d, N, enc)\n",
    "\n",
    "    print(f\"Message: {msg}\")\n",
    "    print(f\"e: {e}\")\n",
    "    print(f\"d: {d}\")\n",
    "    print(f\"N: {N}\")\n",
    "    print(f\"enc: {enc}\")\n",
    "    print(f\"dec: {dec}\")\n",
    "    \n",
    "main()"
   ]
  }
 ],
 "metadata": {
  "kernelspec": {
   "display_name": "Python 3",
   "language": "python",
   "name": "python3"
  },
  "language_info": {
   "codemirror_mode": {
    "name": "ipython",
    "version": 3
   },
   "file_extension": ".py",
   "mimetype": "text/x-python",
   "name": "python",
   "nbconvert_exporter": "python",
   "pygments_lexer": "ipython3",
   "version": "3.7.4"
  }
 },
 "nbformat": 4,
 "nbformat_minor": 4
}
